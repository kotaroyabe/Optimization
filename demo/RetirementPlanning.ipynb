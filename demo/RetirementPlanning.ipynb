{
  "cells": [
    {
      "cell_type": "code",
      "execution_count": null,
      "metadata": {
        "id": "y_0yd9ZgVkEQ"
      },
      "outputs": [],
      "source": [
        "#If you haven't installed pulp before, run this line. Otherwise, skip\n",
        "!pip install pulp\n",
        "from pulp import *"
      ]
    },
    {
      "cell_type": "code",
      "execution_count": null,
      "metadata": {
        "id": "EW1ixHzUX51_"
      },
      "outputs": [],
      "source": [
        "#Session 3 - Retirment Investment Planning Example\n",
        "\n",
        "bonds = 6                                               #Number of bonds\n",
        "bond_returns = [0.0865,0.095,0.1,0.0875,0.0925,0.09]    #Return of each bond\n",
        "long_term = [1,1,0,1,0,1]                               #Whether a bond is long term or not\n",
        "rating = [0,1,1,0,1,0]                                  #Bonds with good or fair rating (excluding very good and excellent ones)\n",
        "total_money = 750000                                    #Total money to be invsted\n",
        "\n",
        "#Problem definition. Takes two arguemnts: name (optional) and whether it's LpMinimize or LpMaximize\n",
        "prob = LpProblem(\"InvestmentProblem\",LpMaximize)\n",
        "\n",
        "#Variable takes 4 arguements: name (optional), lower bound, upper bound, type (default: LpContinous)\n",
        "bond_vars = LpVariable.dicts(\"Bonds\",list(range(bonds)),0,0.25*total_money)\n",
        "\n",
        "#Objective function comes next with += operator and a comma at the end if you want to label the function\n",
        "prob += lpSum(bond_vars[i]*bond_returns[i] for i in range(bonds)), \"Total Return\"\n",
        "\n",
        "#Constraints are added\n",
        "prob += lpSum(bond_vars[i] for i in range(bonds)) == total_money, \"Total Money\"\n",
        "prob += lpSum(bond_vars[i]*long_term[i] for i in range(bonds)) >= 0.5*total_money, \"Long Term\"\n",
        "prob += lpSum(bond_vars[i]*rating[i] for i in range(bonds)) <= 0.35*total_money, \"Rating Requirement\"\n"
      ]
    },
    {
      "cell_type": "code",
      "execution_count": null,
      "metadata": {
        "id": "7NuJRacTaqYB"
      },
      "outputs": [],
      "source": [
        "# The problem is solved using PuLP's choice of Solver (defualt solver is CBC (linear and integer programming))\n",
        "# You can name your choice of solver within the parenthesis. Check this link: https://coin-or.github.io/pulp/guides/how_to_configure_solvers.html?highlight=solver\n",
        "prob.solve()"
      ]
    },
    {
      "cell_type": "code",
      "execution_count": null,
      "metadata": {
        "id": "7FObD1IHdGxg"
      },
      "outputs": [],
      "source": [
        "# The status of the solution is printed to the screen\n",
        "print(\"Status:\", LpStatus[prob.status])\n",
        "\n",
        "# Each of the variables is printed with it's resolved optimum value\n",
        "for v in prob.variables():\n",
        "    print(v.name, \"=\", v.varValue)\n",
        "\n",
        "# The optimized objective function value is printed to the screen\n",
        "print(\"Total return is =\", value(prob.objective))"
      ]
    }
  ],
  "metadata": {
    "colab": {
      "collapsed_sections": [],
      "name": "RetirementPlanning.ipynb",
      "provenance": []
    },
    "kernelspec": {
      "display_name": "Python 3",
      "name": "python3"
    },
    "language_info": {
      "name": "python"
    }
  },
  "nbformat": 4,
  "nbformat_minor": 0
}
