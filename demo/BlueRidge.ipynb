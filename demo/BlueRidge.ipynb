{
  "cells": [
    {
      "cell_type": "code",
      "execution_count": null,
      "metadata": {
        "id": "y_0yd9ZgVkEQ"
      },
      "outputs": [],
      "source": [
        "#If you haven't installed pulp before, run this line. Otherwise, skip the first line\n",
        "!pip install pulp\n",
        "from pulp import *"
      ]
    },
    {
      "cell_type": "code",
      "execution_count": null,
      "metadata": {
        "id": "EW1ixHzUX51_"
      },
      "outputs": [],
      "source": [
        "#Session 2: BlueRidge Hot Tub Example\n",
        "\n",
        "#Problem definition. Takes two arguemnts: name (optional) and whether it's LpMinimize or LpMaximize\n",
        "prob = LpProblem(\"BlueRidge\",LpMaximize)\n",
        "\n",
        "#Variable takes 4 arguements: name (optional), lower bound, upper bound, type (default: LpContinous)\n",
        "x1 = LpVariable(\"AquaSpas\",0)\n",
        "x2 = LpVariable(\"HydroLux\",0) \n",
        "\n",
        "#Objective function comes next with += operator and a comma at the end if you want to label the function\n",
        "prob += 350*x1 + 300*x2, \"Total Profit\"\n",
        "\n",
        "#Constraints are added\n",
        "prob += x1 + x2 <= 200, \"Pumps\"\n",
        "prob += 9*x1 + 6*x2 <= 1566, \"Labor\"\n",
        "prob += 12*x1 + 16*x2 <= 2880, \"Tube\""
      ]
    },
    {
      "cell_type": "code",
      "execution_count": null,
      "metadata": {
        "id": "7NuJRacTaqYB"
      },
      "outputs": [],
      "source": [
        "# The problem is solved using PuLP's choice of Solver (defualt solver is CBC (linear and integer programming))\n",
        "# You can name your choice of solver within the parenthesis. Check this link: https://coin-or.github.io/pulp/guides/how_to_configure_solvers.html?highlight=solver\n",
        "prob.solve()"
      ]
    },
    {
      "cell_type": "code",
      "execution_count": null,
      "metadata": {
        "id": "7FObD1IHdGxg"
      },
      "outputs": [],
      "source": [
        "# The status of the solution is printed to the screen\n",
        "print(\"Status:\", LpStatus[prob.status])\n",
        "\n",
        "# Each of the variables is printed with its resolved optimum value\n",
        "for v in prob.variables():\n",
        "    print(v.name, \"=\", v.varValue)\n",
        "\n",
        "# The optimised objective function value is printed to the screen\n",
        "print(\"Total profit is =\", value(prob.objective))"
      ]
    }
  ],
  "metadata": {
    "colab": {
      "collapsed_sections": [],
      "name": "BlueRidge.ipynb",
      "provenance": []
    },
    "kernelspec": {
      "display_name": "Python 3",
      "name": "python3"
    },
    "language_info": {
      "name": "python"
    }
  },
  "nbformat": 4,
  "nbformat_minor": 0
}
